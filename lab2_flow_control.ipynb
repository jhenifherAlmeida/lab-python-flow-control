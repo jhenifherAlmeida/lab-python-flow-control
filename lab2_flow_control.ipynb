{
 "cells": [
  {
   "cell_type": "code",
   "execution_count": 6,
   "metadata": {},
   "outputs": [
    {
     "name": "stdout",
     "output_type": "stream",
     "text": [
      "Enter the quantity of each product available:\n",
      "Enter products that the customner wnats to order (choose from t-shirt, mug, hat, book, keychain )\n",
      "Products ordered by the costumer\n",
      "-mug\n",
      "-hat\n",
      "Order statistics:\n",
      "Total Products Ordered: 2\n",
      "Percentage of products ordered: 40.00%\n",
      "Updating inventory\n",
      "mug order processed.Remaining stock: 0\n",
      "hat order processed.Remaining stock: 0\n"
     ]
    }
   ],
   "source": [
    "products = [ \"t-shirt\", \"mug\", \"hat\", \"book\", \"keychain\"]\n",
    "\n",
    "inventory = {}\n",
    "\n",
    "print(\"Enter the quantity of each product available:\")\n",
    "for product in products:\n",
    "    while True:\n",
    "        try:\n",
    "            quantity = int(input(f\"{product}: \"))\n",
    "            inventory[product] = quantity\n",
    "            break\n",
    "        except ValueError:\n",
    "            print('Please enter a valid number.')\n",
    "\n",
    "customers_orders = {'orders': set()}\n",
    "\n",
    "print(\"Enter products that the customner wnats to order (choose from t-shirt, mug, hat, book, keychain )\")\n",
    "while True:\n",
    "    item = input('Product name: ').strip().lower()\n",
    "    if item in products:\n",
    "        customers_orders['orders'].add(item)\n",
    "    else:\n",
    "        print(\"Invalid product. Please choose from available products.\")\n",
    "\n",
    "    another = input('Do you want to add another product? (yes/no):').strip().lower()\n",
    "    if another != 'yes':   \n",
    "        break\n",
    "\n",
    "print('Products ordered by the costumer')\n",
    "for order in customers_orders['orders']:\n",
    "    print(f'-{order}')\n",
    "\n",
    "\n",
    "total_products_ordered = len(customers_orders['orders'])\n",
    "percentage_ordered = (total_products_ordered * 100) / len(products)\n",
    "order_status = (total_products_ordered, percentage_ordered )\n",
    "\n",
    "\n",
    "print(\"Order statistics:\")\n",
    "print(f\"Total Products Ordered: {order_status[0]}\")\n",
    "print(f\"Percentage of products ordered: {order_status[1]:.2f}%\")\n",
    "\n",
    "print(\"Updating inventory\")\n",
    "for item in customers_orders[\"orders\"]:\n",
    "    if inventory[item] > 0:\n",
    "       inventory[item] -= 1\n",
    "       print(f\"{item} order processed.Remaining stock: {inventory[item]}\")\n",
    "    else:\n",
    "      print(f\"Sorry, {item} is out of stock.\")   \n",
    "\n"
   ]
  }
 ],
 "metadata": {
  "kernelspec": {
   "display_name": "base",
   "language": "python",
   "name": "python3"
  },
  "language_info": {
   "codemirror_mode": {
    "name": "ipython",
    "version": 3
   },
   "file_extension": ".py",
   "mimetype": "text/x-python",
   "name": "python",
   "nbconvert_exporter": "python",
   "pygments_lexer": "ipython3",
   "version": "3.12.7"
  }
 },
 "nbformat": 4,
 "nbformat_minor": 2
}
